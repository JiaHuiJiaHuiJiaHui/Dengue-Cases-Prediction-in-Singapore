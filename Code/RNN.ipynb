{
 "cells": [
  {
   "cell_type": "code",
   "execution_count": 27,
   "id": "b7b092e7-cdb0-4a58-9e0b-93ca82954b13",
   "metadata": {},
   "outputs": [],
   "source": [
    "import pandas as pd\n",
    "import numpy as np\n",
    "\n",
    "from sklearn.preprocessing import StandardScaler\n",
    "from sklearn.model_selection import train_test_split\n",
    "from sklearn.metrics import accuracy_score\n",
    "\n",
    "from keras.models import Sequential\n",
    "from keras.layers import GRU, Dense\n",
    "from tensorflow.keras.optimizers import Adam\n",
    "from tensorflow.keras.preprocessing.sequence import TimeseriesGenerator\n",
    "\n",
    "import matplotlib.pyplot as plt"
   ]
  },
  {
   "cell_type": "code",
   "execution_count": 6,
   "id": "2c7f96ca-e842-4355-8f7b-acbb1a696c7f",
   "metadata": {},
   "outputs": [
    {
     "data": {
      "text/html": [
       "<div>\n",
       "<style scoped>\n",
       "    .dataframe tbody tr th:only-of-type {\n",
       "        vertical-align: middle;\n",
       "    }\n",
       "\n",
       "    .dataframe tbody tr th {\n",
       "        vertical-align: top;\n",
       "    }\n",
       "\n",
       "    .dataframe thead th {\n",
       "        text-align: right;\n",
       "    }\n",
       "</style>\n",
       "<table border=\"1\" class=\"dataframe\">\n",
       "  <thead>\n",
       "    <tr style=\"text-align: right;\">\n",
       "      <th></th>\n",
       "      <th>Year</th>\n",
       "      <th>eWeek</th>\n",
       "      <th>Cases</th>\n",
       "      <th>Daily Rainfall Total (mm)</th>\n",
       "      <th>Highest 30 Min Rainfall (mm)</th>\n",
       "      <th>Highest 60 Min Rainfall (mm)</th>\n",
       "      <th>Highest 120 Min Rainfall (mm)</th>\n",
       "      <th>Mean Temperature (°C)</th>\n",
       "      <th>Maximum Temperature (°C)</th>\n",
       "      <th>Minimum Temperature (°C)</th>\n",
       "      <th>Mean Wind Speed (km/h)</th>\n",
       "      <th>Max Wind Speed (km/h)</th>\n",
       "      <th>Year_eWeek</th>\n",
       "      <th>Date</th>\n",
       "      <th>Month</th>\n",
       "      <th>Year_Month</th>\n",
       "    </tr>\n",
       "  </thead>\n",
       "  <tbody>\n",
       "    <tr>\n",
       "      <th>0</th>\n",
       "      <td>2014</td>\n",
       "      <td>1</td>\n",
       "      <td>437.0</td>\n",
       "      <td>3.255745</td>\n",
       "      <td>30.6</td>\n",
       "      <td>42.2</td>\n",
       "      <td>52.0</td>\n",
       "      <td>26.932</td>\n",
       "      <td>32.4</td>\n",
       "      <td>26.1</td>\n",
       "      <td>8.77125</td>\n",
       "      <td>72.4</td>\n",
       "      <td>2014-1</td>\n",
       "      <td>2014-01-06</td>\n",
       "      <td>1</td>\n",
       "      <td>2014-1</td>\n",
       "    </tr>\n",
       "  </tbody>\n",
       "</table>\n",
       "</div>"
      ],
      "text/plain": [
       "   Year  eWeek  Cases  Daily Rainfall Total (mm)  \\\n",
       "0  2014      1  437.0                   3.255745   \n",
       "\n",
       "   Highest 30 Min Rainfall (mm)  Highest 60 Min Rainfall (mm)  \\\n",
       "0                          30.6                          42.2   \n",
       "\n",
       "   Highest 120 Min Rainfall (mm)  Mean Temperature (°C)  \\\n",
       "0                           52.0                 26.932   \n",
       "\n",
       "   Maximum Temperature (°C)  Minimum Temperature (°C)  Mean Wind Speed (km/h)  \\\n",
       "0                      32.4                      26.1                 8.77125   \n",
       "\n",
       "   Max Wind Speed (km/h) Year_eWeek        Date  Month Year_Month  \n",
       "0                   72.4     2014-1  2014-01-06      1     2014-1  "
      ]
     },
     "execution_count": 6,
     "metadata": {},
     "output_type": "execute_result"
    }
   ],
   "source": [
    "# read df\n",
    "dengue_df = pd.read_csv('../assets/sg_dengue_w_weather_df.csv')\n",
    "dengue_df.head(1)"
   ]
  },
  {
   "cell_type": "code",
   "execution_count": 7,
   "id": "c958b3ef-963a-4998-afb2-431c25aee039",
   "metadata": {},
   "outputs": [
    {
     "data": {
      "text/html": [
       "<div>\n",
       "<style scoped>\n",
       "    .dataframe tbody tr th:only-of-type {\n",
       "        vertical-align: middle;\n",
       "    }\n",
       "\n",
       "    .dataframe tbody tr th {\n",
       "        vertical-align: top;\n",
       "    }\n",
       "\n",
       "    .dataframe thead th {\n",
       "        text-align: right;\n",
       "    }\n",
       "</style>\n",
       "<table border=\"1\" class=\"dataframe\">\n",
       "  <thead>\n",
       "    <tr style=\"text-align: right;\">\n",
       "      <th></th>\n",
       "      <th>Year</th>\n",
       "      <th>eWeek</th>\n",
       "      <th>Cases</th>\n",
       "      <th>Daily Rainfall Total (mm)</th>\n",
       "      <th>Highest 30 Min Rainfall (mm)</th>\n",
       "      <th>Highest 60 Min Rainfall (mm)</th>\n",
       "      <th>Highest 120 Min Rainfall (mm)</th>\n",
       "      <th>Mean Temperature (°C)</th>\n",
       "      <th>Maximum Temperature (°C)</th>\n",
       "      <th>Minimum Temperature (°C)</th>\n",
       "      <th>Mean Wind Speed (km/h)</th>\n",
       "      <th>Max Wind Speed (km/h)</th>\n",
       "      <th>Year_eWeek</th>\n",
       "      <th>Month</th>\n",
       "      <th>Year_Month</th>\n",
       "    </tr>\n",
       "    <tr>\n",
       "      <th>Date</th>\n",
       "      <th></th>\n",
       "      <th></th>\n",
       "      <th></th>\n",
       "      <th></th>\n",
       "      <th></th>\n",
       "      <th></th>\n",
       "      <th></th>\n",
       "      <th></th>\n",
       "      <th></th>\n",
       "      <th></th>\n",
       "      <th></th>\n",
       "      <th></th>\n",
       "      <th></th>\n",
       "      <th></th>\n",
       "      <th></th>\n",
       "    </tr>\n",
       "  </thead>\n",
       "  <tbody>\n",
       "    <tr>\n",
       "      <th>2014-01-06</th>\n",
       "      <td>2014</td>\n",
       "      <td>1</td>\n",
       "      <td>437.0</td>\n",
       "      <td>3.255745</td>\n",
       "      <td>30.6</td>\n",
       "      <td>42.2</td>\n",
       "      <td>52.0</td>\n",
       "      <td>26.932</td>\n",
       "      <td>32.4</td>\n",
       "      <td>26.1</td>\n",
       "      <td>8.77125</td>\n",
       "      <td>72.4</td>\n",
       "      <td>2014-1</td>\n",
       "      <td>1</td>\n",
       "      <td>2014-1</td>\n",
       "    </tr>\n",
       "  </tbody>\n",
       "</table>\n",
       "</div>"
      ],
      "text/plain": [
       "            Year  eWeek  Cases  Daily Rainfall Total (mm)  \\\n",
       "Date                                                        \n",
       "2014-01-06  2014      1  437.0                   3.255745   \n",
       "\n",
       "            Highest 30 Min Rainfall (mm)  Highest 60 Min Rainfall (mm)  \\\n",
       "Date                                                                     \n",
       "2014-01-06                          30.6                          42.2   \n",
       "\n",
       "            Highest 120 Min Rainfall (mm)  Mean Temperature (°C)  \\\n",
       "Date                                                               \n",
       "2014-01-06                           52.0                 26.932   \n",
       "\n",
       "            Maximum Temperature (°C)  Minimum Temperature (°C)  \\\n",
       "Date                                                             \n",
       "2014-01-06                      32.4                      26.1   \n",
       "\n",
       "            Mean Wind Speed (km/h)  Max Wind Speed (km/h) Year_eWeek  Month  \\\n",
       "Date                                                                          \n",
       "2014-01-06                 8.77125                   72.4     2014-1      1   \n",
       "\n",
       "           Year_Month  \n",
       "Date                   \n",
       "2014-01-06     2014-1  "
      ]
     },
     "execution_count": 7,
     "metadata": {},
     "output_type": "execute_result"
    }
   ],
   "source": [
    "# Since these are time series datasets, we need the indices to be the Date columns\n",
    "dengue_df.set_index(dengue_df['Date'], inplace = True)\n",
    "dengue_df.drop(columns='Date',inplace = True)\n",
    "dengue_df.head(1)"
   ]
  },
  {
   "cell_type": "code",
   "execution_count": 8,
   "id": "857eadd2-009d-4da7-9197-47cc1a186aee",
   "metadata": {},
   "outputs": [],
   "source": [
    "# rename columns\n",
    "dengue_df = dengue_df.rename(columns={\"Daily Rainfall Total (mm)\": \"Avg Weekly Rainfall (mm)\", \n",
    "                                      \"Mean Temperature (°C)\": \"Avg Weekly Temperature\",\n",
    "                                      \"Mean Wind Speed (km/h)\": \"Avg Weekly Wind Speed\"})"
   ]
  },
  {
   "cell_type": "code",
   "execution_count": 9,
   "id": "2d993d7a-3a24-463c-baf9-7030f7f69818",
   "metadata": {},
   "outputs": [
    {
     "data": {
      "text/html": [
       "<div>\n",
       "<style scoped>\n",
       "    .dataframe tbody tr th:only-of-type {\n",
       "        vertical-align: middle;\n",
       "    }\n",
       "\n",
       "    .dataframe tbody tr th {\n",
       "        vertical-align: top;\n",
       "    }\n",
       "\n",
       "    .dataframe thead th {\n",
       "        text-align: right;\n",
       "    }\n",
       "</style>\n",
       "<table border=\"1\" class=\"dataframe\">\n",
       "  <thead>\n",
       "    <tr style=\"text-align: right;\">\n",
       "      <th></th>\n",
       "      <th>Cases</th>\n",
       "      <th>Avg Weekly Rainfall (mm)</th>\n",
       "      <th>Avg Weekly Temperature</th>\n",
       "      <th>Avg Weekly Wind Speed</th>\n",
       "    </tr>\n",
       "    <tr>\n",
       "      <th>Date</th>\n",
       "      <th></th>\n",
       "      <th></th>\n",
       "      <th></th>\n",
       "      <th></th>\n",
       "    </tr>\n",
       "  </thead>\n",
       "  <tbody>\n",
       "    <tr>\n",
       "      <th>2014-01-06</th>\n",
       "      <td>437.0</td>\n",
       "      <td>3.255745</td>\n",
       "      <td>26.932</td>\n",
       "      <td>8.77125</td>\n",
       "    </tr>\n",
       "  </tbody>\n",
       "</table>\n",
       "</div>"
      ],
      "text/plain": [
       "            Cases  Avg Weekly Rainfall (mm)  Avg Weekly Temperature  \\\n",
       "Date                                                                  \n",
       "2014-01-06  437.0                  3.255745                  26.932   \n",
       "\n",
       "            Avg Weekly Wind Speed  \n",
       "Date                               \n",
       "2014-01-06                8.77125  "
      ]
     },
     "execution_count": 9,
     "metadata": {},
     "output_type": "execute_result"
    }
   ],
   "source": [
    "# only look at relevant columns\n",
    "relevant_columns = ['Cases', 'Avg Weekly Rainfall (mm)', 'Avg Weekly Temperature', 'Avg Weekly Wind Speed']\n",
    "df = dengue_df[relevant_columns]\n",
    "df.head(1)"
   ]
  },
  {
   "cell_type": "code",
   "execution_count": 12,
   "id": "a19905d1-04d6-4547-9aaa-f3c79a3aee68",
   "metadata": {},
   "outputs": [],
   "source": [
    "features = [col for col in df.columns if not col == 'Cases']\n",
    "X = df[features]\n",
    "y = df[['Cases']].values"
   ]
  },
  {
   "cell_type": "code",
   "execution_count": 13,
   "id": "43e28d0f-ff70-4667-a01c-234b55f779ae",
   "metadata": {},
   "outputs": [
    {
     "data": {
      "text/html": [
       "<div>\n",
       "<style scoped>\n",
       "    .dataframe tbody tr th:only-of-type {\n",
       "        vertical-align: middle;\n",
       "    }\n",
       "\n",
       "    .dataframe tbody tr th {\n",
       "        vertical-align: top;\n",
       "    }\n",
       "\n",
       "    .dataframe thead th {\n",
       "        text-align: right;\n",
       "    }\n",
       "</style>\n",
       "<table border=\"1\" class=\"dataframe\">\n",
       "  <thead>\n",
       "    <tr style=\"text-align: right;\">\n",
       "      <th></th>\n",
       "      <th>Avg Weekly Rainfall (mm)</th>\n",
       "      <th>Avg Weekly Temperature</th>\n",
       "      <th>Avg Weekly Wind Speed</th>\n",
       "    </tr>\n",
       "    <tr>\n",
       "      <th>Date</th>\n",
       "      <th></th>\n",
       "      <th></th>\n",
       "      <th></th>\n",
       "    </tr>\n",
       "  </thead>\n",
       "  <tbody>\n",
       "    <tr>\n",
       "      <th>2014-01-06</th>\n",
       "      <td>3.255745</td>\n",
       "      <td>26.932</td>\n",
       "      <td>8.77125</td>\n",
       "    </tr>\n",
       "  </tbody>\n",
       "</table>\n",
       "</div>"
      ],
      "text/plain": [
       "            Avg Weekly Rainfall (mm)  Avg Weekly Temperature  \\\n",
       "Date                                                           \n",
       "2014-01-06                  3.255745                  26.932   \n",
       "\n",
       "            Avg Weekly Wind Speed  \n",
       "Date                               \n",
       "2014-01-06                8.77125  "
      ]
     },
     "execution_count": 13,
     "metadata": {},
     "output_type": "execute_result"
    }
   ],
   "source": [
    "X_train, X_test, y_train, y_test = train_test_split(X, y, shuffle=False)\n",
    "X_train.head(1)"
   ]
  },
  {
   "cell_type": "code",
   "execution_count": 14,
   "id": "6dd25fd0-cd85-43ca-86db-1e24b50c2ca1",
   "metadata": {},
   "outputs": [],
   "source": [
    "# scale data for any model that uses gradient descent, which includes neural networks.\n",
    "ss = StandardScaler()\n",
    "X_train_sc = ss.fit_transform(X_train)\n",
    "X_test_sc = ss.transform(X_test)"
   ]
  },
  {
   "cell_type": "code",
   "execution_count": null,
   "id": "e9d9c3f3-896e-440d-bab7-598f916a0998",
   "metadata": {},
   "outputs": [],
   "source": [
    "# check if there's a need to reshape\n",
    "# Assuming 'scaled_features' is your scaled data and 'n_features' is the number of features\n",
    "# X_reshaped = scaled_features.reshape((scaled_features.shape[0], timesteps, n_features))"
   ]
  },
  {
   "cell_type": "code",
   "execution_count": 16,
   "id": "67a9adc6-b849-4a2e-842c-4f89238fe284",
   "metadata": {},
   "outputs": [],
   "source": [
    "train_sequences = TimeseriesGenerator(X_train_sc, y_train, length=3, batch_size=64)"
   ]
  },
  {
   "cell_type": "code",
   "execution_count": 29,
   "id": "058f72fb-0107-4173-af5b-de619b0e06e7",
   "metadata": {},
   "outputs": [],
   "source": [
    "batch_x, batch_y = train_sequences[0]"
   ]
  },
  {
   "cell_type": "code",
   "execution_count": 30,
   "id": "94f99f86-3aa0-48dd-b922-d11cca02c0f5",
   "metadata": {},
   "outputs": [
    {
     "data": {
      "text/plain": [
       "(64, 3, 3)"
      ]
     },
     "execution_count": 30,
     "metadata": {},
     "output_type": "execute_result"
    }
   ],
   "source": [
    "batch_x.shape"
   ]
  },
  {
   "cell_type": "code",
   "execution_count": 31,
   "id": "e2eca45a-5bbb-4cff-ad0b-3cd327821fca",
   "metadata": {},
   "outputs": [
    {
     "data": {
      "text/plain": [
       "(64, 1)"
      ]
     },
     "execution_count": 31,
     "metadata": {},
     "output_type": "execute_result"
    }
   ],
   "source": [
    "batch_y.shape"
   ]
  },
  {
   "cell_type": "code",
   "execution_count": 32,
   "id": "cab9daa1-0b00-4c8d-9481-a94dd8948c1d",
   "metadata": {},
   "outputs": [
    {
     "data": {
      "text/plain": [
       "array([[-0.62887681, -1.39104714,  0.18273876],\n",
       "       [ 0.58896111, -2.11183063, -0.74524552],\n",
       "       [-1.32606285, -2.13035858,  2.2522045 ]])"
      ]
     },
     "execution_count": 32,
     "metadata": {},
     "output_type": "execute_result"
    }
   ],
   "source": [
    "batch_x[0]"
   ]
  },
  {
   "cell_type": "code",
   "execution_count": 33,
   "id": "603db79c-7cbc-40ae-9279-7ec5d5a8bebb",
   "metadata": {},
   "outputs": [
    {
     "data": {
      "text/html": [
       "<div>\n",
       "<style scoped>\n",
       "    .dataframe tbody tr th:only-of-type {\n",
       "        vertical-align: middle;\n",
       "    }\n",
       "\n",
       "    .dataframe tbody tr th {\n",
       "        vertical-align: top;\n",
       "    }\n",
       "\n",
       "    .dataframe thead th {\n",
       "        text-align: right;\n",
       "    }\n",
       "</style>\n",
       "<table border=\"1\" class=\"dataframe\">\n",
       "  <thead>\n",
       "    <tr style=\"text-align: right;\">\n",
       "      <th></th>\n",
       "      <th>Avg Weekly Rainfall (mm)</th>\n",
       "      <th>Avg Weekly Temperature</th>\n",
       "      <th>Avg Weekly Wind Speed</th>\n",
       "    </tr>\n",
       "  </thead>\n",
       "  <tbody>\n",
       "    <tr>\n",
       "      <th>0</th>\n",
       "      <td>-0.628877</td>\n",
       "      <td>-1.391047</td>\n",
       "      <td>0.182739</td>\n",
       "    </tr>\n",
       "    <tr>\n",
       "      <th>1</th>\n",
       "      <td>0.588961</td>\n",
       "      <td>-2.111831</td>\n",
       "      <td>-0.745246</td>\n",
       "    </tr>\n",
       "    <tr>\n",
       "      <th>2</th>\n",
       "      <td>-1.326063</td>\n",
       "      <td>-2.130359</td>\n",
       "      <td>2.252204</td>\n",
       "    </tr>\n",
       "  </tbody>\n",
       "</table>\n",
       "</div>"
      ],
      "text/plain": [
       "   Avg Weekly Rainfall (mm)  Avg Weekly Temperature  Avg Weekly Wind Speed\n",
       "0                 -0.628877               -1.391047               0.182739\n",
       "1                  0.588961               -2.111831              -0.745246\n",
       "2                 -1.326063               -2.130359               2.252204"
      ]
     },
     "execution_count": 33,
     "metadata": {},
     "output_type": "execute_result"
    }
   ],
   "source": [
    "pd.DataFrame(X_train_sc, columns=X_train.columns).head(3)"
   ]
  },
  {
   "cell_type": "code",
   "execution_count": 17,
   "id": "61452481-50fd-4f74-bb4e-1672359d2565",
   "metadata": {},
   "outputs": [],
   "source": [
    "test_sequences = TimeseriesGenerator(X_test_sc, y_test, length=3, batch_size=64)"
   ]
  },
  {
   "cell_type": "code",
   "execution_count": 21,
   "id": "a1d5f814-bdb3-4862-943c-ed2909b07cca",
   "metadata": {},
   "outputs": [],
   "source": [
    "input_shape = train_sequences[0][0][0].shape"
   ]
  },
  {
   "cell_type": "code",
   "execution_count": 25,
   "id": "0ecd14cf-e243-4e35-b2df-e6621a6c67c0",
   "metadata": {},
   "outputs": [
    {
     "name": "stderr",
     "output_type": "stream",
     "text": [
      "C:\\Users\\idea\\Anaconda3\\envs\\dsi-sg\\lib\\site-packages\\keras\\src\\trainers\\data_adapters\\py_dataset_adapter.py:120: UserWarning: Your `PyDataset` class should call `super().__init__(**kwargs)` in its constructor. `**kwargs` can include `workers`, `use_multiprocessing`, `max_queue_size`. Do not pass these arguments to `fit()`, as they will be ignored.\n",
      "  self._warn_if_super_not_called()\n"
     ]
    }
   ],
   "source": [
    "# Initialize the RNN model\n",
    "model = Sequential()\n",
    "\n",
    "# Adding the input layer and the RNN layer\n",
    "# 'input_shape' should match the shape of your input data\n",
    "model.add(GRU(8, input_shape=input_shape, return_sequences=True)) # True if next layer is RNN\n",
    "model.add(GRU(8, return_sequences=False)) # False if next layer is Dense\n",
    "\n",
    "model.add(Dense(4, activation='relu'))\n",
    "\n",
    "# Adding the output layer (linear activation for regression)\n",
    "model.add(Dense(1, activation='linear'))\n",
    "\n",
    "# Compile with mean squared error loss and mean absolute error metric\n",
    "model.compile(optimizer=Adam(learning_rate=.0005), loss='mse', metrics=['mae'])\n",
    "\n",
    "# Fitting the RNN to the Training set\n",
    "history = model.fit(train_sequences, validation_data=test_sequences, epochs=50, verbose=0)"
   ]
  },
  {
   "cell_type": "code",
   "execution_count": 28,
   "id": "4b0ca207-d622-46a8-844e-1c8ec487a87a",
   "metadata": {},
   "outputs": [
    {
     "data": {
      "text/plain": [
       "<matplotlib.legend.Legend at 0x17c43af3280>"
      ]
     },
     "execution_count": 28,
     "metadata": {},
     "output_type": "execute_result"
    },
    {
     "data": {
      "image/png": "[encoded data removed]",
      "text/plain": [
       "<Figure size 640x480 with 1 Axes>"
      ]
     },
     "metadata": {},
     "output_type": "display_data"
    }
   ],
   "source": [
    "# Plot the loss\n",
    "plt.plot(history.history['loss'], label='Train loss')\n",
    "plt.plot(history.history['val_loss'], label='Test loss')\n",
    "plt.legend()"
   ]
  },
  {
   "cell_type": "code",
   "execution_count": null,
   "id": "4964e836-acda-4006-89d0-ef7dd3781725",
   "metadata": {},
   "outputs": [],
   "source": [
    "# Add early stopping\n",
    "es = EarlyStopping(patience=5)\n",
    "\n",
    "# Create the second model with early stopping\n",
    "model2 = Sequential()\n",
    "model2.add(GRU(8, input_shape=(3, 8), return_sequences=True))\n",
    "model2.add(GRU(8, return_sequences=False))\n",
    "\n",
    "model2.add(Dense(4, activation='relu'))\n",
    "\n",
    "# Change to linear activation for regression\n",
    "model2.add(Dense(1, activation='linear'))\n",
    "\n",
    "# Compile with mean squared error loss and mean absolute error metric\n",
    "model2.compile(optimizer='adam', loss='mse', metrics=['mae'])\n",
    "\n",
    "# Fit the model with early stopping\n",
    "history2 = model2.fit(train_sequences, validation_data=test_sequences, epochs=100, batch_size=64, callbacks=[es])"
   ]
  },
  {
   "cell_type": "code",
   "execution_count": null,
   "id": "544bfcf1-197a-443d-95d6-187896f139b4",
   "metadata": {},
   "outputs": [],
   "source": [
    "# Plot the loss for both models\n",
    "plt.plot(history2.history['loss'], label='Train loss with ES')\n",
    "plt.plot(history2.history['val_loss'], label='Test loss with ES')\n",
    "plt.plot(history.history['loss'], label='Original Train loss')\n",
    "plt.plot(history.history['val_loss'], label='Original Test loss')\n",
    "plt.legend()"
   ]
  }
 ],
 "metadata": {
  "kernelspec": {
   "display_name": "Python 3 (ipykernel)",
   "language": "python",
   "name": "python3"
  },
  "language_info": {
   "codemirror_mode": {
    "name": "ipython",
    "version": 3
   },
   "file_extension": ".py",
   "mimetype": "text/x-python",
   "name": "python",
   "nbconvert_exporter": "python",
   "pygments_lexer": "ipython3",
   "version": "3.10.6"
  }
 },
 "nbformat": 4,
 "nbformat_minor": 5
}
