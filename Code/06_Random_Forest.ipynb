{
 "cells": [
  {
   "cell_type": "code",
   "execution_count": 88,
   "id": "fdc57828-b069-4eaa-969e-591614a5fed7",
   "metadata": {},
   "outputs": [],
   "source": [
    "import numpy as np\n",
    "import pandas as pd\n",
    "import matplotlib.pyplot as plt\n",
    "import seaborn as sns\n",
    "from sklearn.model_selection import train_test_split, cross_val_score\n",
    "from sklearn.ensemble import RandomForestRegressor\n",
    "from sklearn import tree\n",
    "from sklearn.feature_selection import RFECV\n",
    "from sklearn.metrics import mean_squared_error"
   ]
  },
  {
   "cell_type": "code",
   "execution_count": 64,
   "id": "0fe8c214-908d-4fb5-8074-e2e5bbd37dd4",
   "metadata": {},
   "outputs": [
    {
     "data": {
      "text/html": [
       "<div>\n",
       "<style scoped>\n",
       "    .dataframe tbody tr th:only-of-type {\n",
       "        vertical-align: middle;\n",
       "    }\n",
       "\n",
       "    .dataframe tbody tr th {\n",
       "        vertical-align: top;\n",
       "    }\n",
       "\n",
       "    .dataframe thead th {\n",
       "        text-align: right;\n",
       "    }\n",
       "</style>\n",
       "<table border=\"1\" class=\"dataframe\">\n",
       "  <thead>\n",
       "    <tr style=\"text-align: right;\">\n",
       "      <th></th>\n",
       "      <th>Year</th>\n",
       "      <th>eWeek</th>\n",
       "      <th>Cases</th>\n",
       "      <th>Daily Rainfall Total (mm)</th>\n",
       "      <th>Highest 30 Min Rainfall (mm)</th>\n",
       "      <th>Highest 60 Min Rainfall (mm)</th>\n",
       "      <th>Highest 120 Min Rainfall (mm)</th>\n",
       "      <th>Mean Temperature (°C)</th>\n",
       "      <th>Maximum Temperature (°C)</th>\n",
       "      <th>Minimum Temperature (°C)</th>\n",
       "      <th>...</th>\n",
       "      <th>Max Wind Speed (km/h)</th>\n",
       "      <th>Year_eWeek</th>\n",
       "      <th>Month</th>\n",
       "      <th>Year_Month</th>\n",
       "      <th>Search Interest</th>\n",
       "      <th>Date</th>\n",
       "      <th>Mean Wind Speed (km/h)_W-6</th>\n",
       "      <th>Weekly Rainfall Total (mm)_W-2</th>\n",
       "      <th>Mean Temperature (°C)_W-3</th>\n",
       "      <th>Search Interest_W-2</th>\n",
       "    </tr>\n",
       "  </thead>\n",
       "  <tbody>\n",
       "    <tr>\n",
       "      <th>0</th>\n",
       "      <td>2014</td>\n",
       "      <td>1</td>\n",
       "      <td>437.0</td>\n",
       "      <td>12.967797</td>\n",
       "      <td>8.641818</td>\n",
       "      <td>10.209091</td>\n",
       "      <td>11.001818</td>\n",
       "      <td>26.932018</td>\n",
       "      <td>31.615</td>\n",
       "      <td>25.110</td>\n",
       "      <td>...</td>\n",
       "      <td>38.394737</td>\n",
       "      <td>2014-1</td>\n",
       "      <td>12</td>\n",
       "      <td>2014-12</td>\n",
       "      <td>48</td>\n",
       "      <td>2014-01-06</td>\n",
       "      <td>NaN</td>\n",
       "      <td>NaN</td>\n",
       "      <td>NaN</td>\n",
       "      <td>NaN</td>\n",
       "    </tr>\n",
       "    <tr>\n",
       "      <th>1</th>\n",
       "      <td>2014</td>\n",
       "      <td>2</td>\n",
       "      <td>479.0</td>\n",
       "      <td>57.510169</td>\n",
       "      <td>12.750909</td>\n",
       "      <td>15.549091</td>\n",
       "      <td>18.998182</td>\n",
       "      <td>26.333960</td>\n",
       "      <td>32.165</td>\n",
       "      <td>24.705</td>\n",
       "      <td>...</td>\n",
       "      <td>40.494737</td>\n",
       "      <td>2014-2</td>\n",
       "      <td>1</td>\n",
       "      <td>2014-1</td>\n",
       "      <td>60</td>\n",
       "      <td>2014-01-13</td>\n",
       "      <td>NaN</td>\n",
       "      <td>NaN</td>\n",
       "      <td>NaN</td>\n",
       "      <td>NaN</td>\n",
       "    </tr>\n",
       "  </tbody>\n",
       "</table>\n",
       "<p>2 rows × 21 columns</p>\n",
       "</div>"
      ],
      "text/plain": [
       "   Year  eWeek  Cases  Daily Rainfall Total (mm)  \\\n",
       "0  2014      1  437.0                  12.967797   \n",
       "1  2014      2  479.0                  57.510169   \n",
       "\n",
       "   Highest 30 Min Rainfall (mm)  Highest 60 Min Rainfall (mm)  \\\n",
       "0                      8.641818                     10.209091   \n",
       "1                     12.750909                     15.549091   \n",
       "\n",
       "   Highest 120 Min Rainfall (mm)  Mean Temperature (°C)  \\\n",
       "0                      11.001818              26.932018   \n",
       "1                      18.998182              26.333960   \n",
       "\n",
       "   Maximum Temperature (°C)  Minimum Temperature (°C)  ...  \\\n",
       "0                    31.615                    25.110  ...   \n",
       "1                    32.165                    24.705  ...   \n",
       "\n",
       "   Max Wind Speed (km/h)  Year_eWeek Month  Year_Month Search Interest  \\\n",
       "0              38.394737      2014-1    12     2014-12              48   \n",
       "1              40.494737      2014-2     1      2014-1              60   \n",
       "\n",
       "         Date Mean Wind Speed (km/h)_W-6  Weekly Rainfall Total (mm)_W-2  \\\n",
       "0  2014-01-06                        NaN                             NaN   \n",
       "1  2014-01-13                        NaN                             NaN   \n",
       "\n",
       "   Mean Temperature (°C)_W-3  Search Interest_W-2  \n",
       "0                        NaN                  NaN  \n",
       "1                        NaN                  NaN  \n",
       "\n",
       "[2 rows x 21 columns]"
      ]
     },
     "execution_count": 64,
     "metadata": {},
     "output_type": "execute_result"
    }
   ],
   "source": [
    "# Load dataset\n",
    "data = pd.read_csv('../assets/sg_dengue_w_weather_df.csv')\n",
    "data.head(2)"
   ]
  },
  {
   "cell_type": "code",
   "execution_count": 66,
   "id": "3e7b9944-1255-4d93-b223-ed9b0d127de5",
   "metadata": {},
   "outputs": [
    {
     "data": {
      "text/html": [
       "<div>\n",
       "<style scoped>\n",
       "    .dataframe tbody tr th:only-of-type {\n",
       "        vertical-align: middle;\n",
       "    }\n",
       "\n",
       "    .dataframe tbody tr th {\n",
       "        vertical-align: top;\n",
       "    }\n",
       "\n",
       "    .dataframe thead th {\n",
       "        text-align: right;\n",
       "    }\n",
       "</style>\n",
       "<table border=\"1\" class=\"dataframe\">\n",
       "  <thead>\n",
       "    <tr style=\"text-align: right;\">\n",
       "      <th></th>\n",
       "      <th>Cases</th>\n",
       "      <th>eWeek</th>\n",
       "      <th>Month</th>\n",
       "      <th>Daily Rainfall Total (mm)</th>\n",
       "      <th>Search Interest_W-2</th>\n",
       "      <th>Mean Wind Speed (km/h)_W-6</th>\n",
       "      <th>Mean Temperature (°C)_W-3</th>\n",
       "    </tr>\n",
       "  </thead>\n",
       "  <tbody>\n",
       "    <tr>\n",
       "      <th>0</th>\n",
       "      <td>437.0</td>\n",
       "      <td>1</td>\n",
       "      <td>12</td>\n",
       "      <td>12.967797</td>\n",
       "      <td>NaN</td>\n",
       "      <td>NaN</td>\n",
       "      <td>NaN</td>\n",
       "    </tr>\n",
       "  </tbody>\n",
       "</table>\n",
       "</div>"
      ],
      "text/plain": [
       "   Cases  eWeek  Month  Daily Rainfall Total (mm)  Search Interest_W-2  \\\n",
       "0  437.0      1     12                  12.967797                  NaN   \n",
       "\n",
       "   Mean Wind Speed (km/h)_W-6  Mean Temperature (°C)_W-3  \n",
       "0                         NaN                        NaN  "
      ]
     },
     "execution_count": 66,
     "metadata": {},
     "output_type": "execute_result"
    }
   ],
   "source": [
    "# only look at relevant columns\n",
    "relevant_columns = ['Cases', 'eWeek', 'Month', 'Daily Rainfall Total (mm)', 'Search Interest_W-2','Mean Wind Speed (km/h)_W-6', 'Mean Temperature (°C)_W-3']\n",
    "data = data[relevant_columns]\n",
    "data.head(1)"
   ]
  },
  {
   "cell_type": "code",
   "execution_count": 67,
   "id": "c127cb20-b053-4f1d-aeaf-9e8694fc1966",
   "metadata": {},
   "outputs": [
    {
     "name": "stdout",
     "output_type": "stream",
     "text": [
      "<class 'pandas.core.frame.DataFrame'>\n",
      "RangeIndex: 260 entries, 0 to 259\n",
      "Data columns (total 7 columns):\n",
      " #   Column                      Non-Null Count  Dtype  \n",
      "---  ------                      --------------  -----  \n",
      " 0   Cases                       260 non-null    float64\n",
      " 1   eWeek                       260 non-null    int64  \n",
      " 2   Month                       260 non-null    int64  \n",
      " 3   Daily Rainfall Total (mm)   260 non-null    float64\n",
      " 4   Search Interest_W-2         258 non-null    float64\n",
      " 5   Mean Wind Speed (km/h)_W-6  254 non-null    float64\n",
      " 6   Mean Temperature (°C)_W-3   257 non-null    float64\n",
      "dtypes: float64(5), int64(2)\n",
      "memory usage: 14.3 KB\n"
     ]
    }
   ],
   "source": [
    "data.info()"
   ]
  },
  {
   "cell_type": "code",
   "execution_count": 68,
   "id": "90716277-01e9-47d1-9d03-e32aaad25b06",
   "metadata": {},
   "outputs": [],
   "source": [
    "data['eWeek'] = data['eWeek'].astype('category')\n",
    "data['Month'] = data['Month'].astype('category')"
   ]
  },
  {
   "cell_type": "code",
   "execution_count": 69,
   "id": "b3dc7bfc-af01-41c9-9fd8-76ebd86623af",
   "metadata": {},
   "outputs": [
    {
     "name": "stdout",
     "output_type": "stream",
     "text": [
      "<class 'pandas.core.frame.DataFrame'>\n",
      "RangeIndex: 260 entries, 0 to 259\n",
      "Data columns (total 7 columns):\n",
      " #   Column                      Non-Null Count  Dtype   \n",
      "---  ------                      --------------  -----   \n",
      " 0   Cases                       260 non-null    float64 \n",
      " 1   eWeek                       260 non-null    category\n",
      " 2   Month                       260 non-null    category\n",
      " 3   Daily Rainfall Total (mm)   260 non-null    float64 \n",
      " 4   Search Interest_W-2         258 non-null    float64 \n",
      " 5   Mean Wind Speed (km/h)_W-6  254 non-null    float64 \n",
      " 6   Mean Temperature (°C)_W-3   257 non-null    float64 \n",
      "dtypes: category(2), float64(5)\n",
      "memory usage: 13.6 KB\n"
     ]
    }
   ],
   "source": [
    "data.info()"
   ]
  },
  {
   "cell_type": "code",
   "execution_count": 70,
   "id": "fba9bebd-3f89-46d3-b2f4-dc6286673b0a",
   "metadata": {},
   "outputs": [],
   "source": [
    "data['Lag_2'] = data[['Cases']].shift(2)\n",
    "data['Weekly Rainfall Total (mm)_W-6'] = data['Daily Rainfall Total (mm)'].shift(6)"
   ]
  },
  {
   "cell_type": "code",
   "execution_count": 71,
   "id": "f06dc78c-b0dc-40d4-8b17-86a8d75d6432",
   "metadata": {},
   "outputs": [],
   "source": [
    "# drop the original no-lag variables and month\n",
    "these_columns = ['Month', 'Daily Rainfall Total (mm)']\n",
    "data = data.drop(these_columns, axis=1)"
   ]
  },
  {
   "cell_type": "code",
   "execution_count": 72,
   "id": "200a69d5-5227-4215-9367-0a87cfbe1d92",
   "metadata": {},
   "outputs": [
    {
     "data": {
      "text/html": [
       "<div>\n",
       "<style scoped>\n",
       "    .dataframe tbody tr th:only-of-type {\n",
       "        vertical-align: middle;\n",
       "    }\n",
       "\n",
       "    .dataframe tbody tr th {\n",
       "        vertical-align: top;\n",
       "    }\n",
       "\n",
       "    .dataframe thead th {\n",
       "        text-align: right;\n",
       "    }\n",
       "</style>\n",
       "<table border=\"1\" class=\"dataframe\">\n",
       "  <thead>\n",
       "    <tr style=\"text-align: right;\">\n",
       "      <th></th>\n",
       "      <th>Cases</th>\n",
       "      <th>eWeek</th>\n",
       "      <th>Search Interest_W-2</th>\n",
       "      <th>Mean Wind Speed (km/h)_W-6</th>\n",
       "      <th>Mean Temperature (°C)_W-3</th>\n",
       "      <th>Lag_2</th>\n",
       "      <th>Weekly Rainfall Total (mm)_W-6</th>\n",
       "    </tr>\n",
       "  </thead>\n",
       "  <tbody>\n",
       "    <tr>\n",
       "      <th>0</th>\n",
       "      <td>437.0</td>\n",
       "      <td>1</td>\n",
       "      <td>NaN</td>\n",
       "      <td>NaN</td>\n",
       "      <td>NaN</td>\n",
       "      <td>NaN</td>\n",
       "      <td>NaN</td>\n",
       "    </tr>\n",
       "    <tr>\n",
       "      <th>1</th>\n",
       "      <td>479.0</td>\n",
       "      <td>2</td>\n",
       "      <td>NaN</td>\n",
       "      <td>NaN</td>\n",
       "      <td>NaN</td>\n",
       "      <td>NaN</td>\n",
       "      <td>NaN</td>\n",
       "    </tr>\n",
       "    <tr>\n",
       "      <th>2</th>\n",
       "      <td>401.0</td>\n",
       "      <td>3</td>\n",
       "      <td>48.0</td>\n",
       "      <td>NaN</td>\n",
       "      <td>NaN</td>\n",
       "      <td>437.0</td>\n",
       "      <td>NaN</td>\n",
       "    </tr>\n",
       "    <tr>\n",
       "      <th>3</th>\n",
       "      <td>336.0</td>\n",
       "      <td>4</td>\n",
       "      <td>60.0</td>\n",
       "      <td>NaN</td>\n",
       "      <td>26.932018</td>\n",
       "      <td>479.0</td>\n",
       "      <td>NaN</td>\n",
       "    </tr>\n",
       "    <tr>\n",
       "      <th>4</th>\n",
       "      <td>234.0</td>\n",
       "      <td>5</td>\n",
       "      <td>60.0</td>\n",
       "      <td>NaN</td>\n",
       "      <td>26.333960</td>\n",
       "      <td>401.0</td>\n",
       "      <td>NaN</td>\n",
       "    </tr>\n",
       "  </tbody>\n",
       "</table>\n",
       "</div>"
      ],
      "text/plain": [
       "   Cases eWeek  Search Interest_W-2  Mean Wind Speed (km/h)_W-6  \\\n",
       "0  437.0     1                  NaN                         NaN   \n",
       "1  479.0     2                  NaN                         NaN   \n",
       "2  401.0     3                 48.0                         NaN   \n",
       "3  336.0     4                 60.0                         NaN   \n",
       "4  234.0     5                 60.0                         NaN   \n",
       "\n",
       "   Mean Temperature (°C)_W-3  Lag_2  Weekly Rainfall Total (mm)_W-6  \n",
       "0                        NaN    NaN                             NaN  \n",
       "1                        NaN    NaN                             NaN  \n",
       "2                        NaN  437.0                             NaN  \n",
       "3                  26.932018  479.0                             NaN  \n",
       "4                  26.333960  401.0                             NaN  "
      ]
     },
     "execution_count": 72,
     "metadata": {},
     "output_type": "execute_result"
    }
   ],
   "source": [
    "data.head()"
   ]
  },
  {
   "cell_type": "code",
   "execution_count": 73,
   "id": "06317959-8dfd-4122-9d09-72ace145b85a",
   "metadata": {},
   "outputs": [
    {
     "name": "stdout",
     "output_type": "stream",
     "text": [
      "<class 'pandas.core.frame.DataFrame'>\n",
      "Int64Index: 254 entries, 6 to 259\n",
      "Data columns (total 7 columns):\n",
      " #   Column                          Non-Null Count  Dtype   \n",
      "---  ------                          --------------  -----   \n",
      " 0   Cases                           254 non-null    float64 \n",
      " 1   eWeek                           254 non-null    category\n",
      " 2   Search Interest_W-2             254 non-null    float64 \n",
      " 3   Mean Wind Speed (km/h)_W-6      254 non-null    float64 \n",
      " 4   Mean Temperature (°C)_W-3       254 non-null    float64 \n",
      " 5   Lag_2                           254 non-null    float64 \n",
      " 6   Weekly Rainfall Total (mm)_W-6  254 non-null    float64 \n",
      "dtypes: category(1), float64(6)\n",
      "memory usage: 16.6 KB\n"
     ]
    }
   ],
   "source": [
    "data.dropna(inplace=True)\n",
    "data.info()"
   ]
  },
  {
   "cell_type": "code",
   "execution_count": 74,
   "id": "599fff25-fa78-4605-91be-0a6bfb5167fa",
   "metadata": {},
   "outputs": [],
   "source": [
    "# Split the data into features and target variable\n",
    "X = data.drop('Cases', axis=1)  # Features\n",
    "y = data['Cases']                # Target variable"
   ]
  },
  {
   "cell_type": "code",
   "execution_count": 75,
   "id": "9d3de475-c4c6-4e32-ba9c-2820a0917b25",
   "metadata": {},
   "outputs": [],
   "source": [
    "# Split the dataset into training set and test set\n",
    "X_train, X_test, y_train, y_test = train_test_split(X, y, test_size=0.2, shuffle=False) # 80% training, 20% testing"
   ]
  },
  {
   "cell_type": "code",
   "execution_count": 101,
   "id": "d73e8d6b-6efe-4df9-a16e-18c13a01aa75",
   "metadata": {},
   "outputs": [],
   "source": [
    "# Create a Random Forest Regressor\n",
    "rf = RandomForestRegressor(n_estimators=500, max_depth=4, max_leaf_nodes=2, max_samples=10)  # Adjust hyperparameters as needed\n",
    "\n",
    "# Train the model using the training sets\n",
    "rf.fit(X_train, y_train)\n",
    "\n",
    "# Predict the response for the test dataset\n",
    "y_pred = rf.predict(X_test)"
   ]
  },
  {
   "cell_type": "code",
   "execution_count": 77,
   "id": "7915e893-d04b-427f-a4fa-2c458fa3599b",
   "metadata": {},
   "outputs": [
    {
     "name": "stdout",
     "output_type": "stream",
     "text": [
      "Root Mean Squared Error (RMSE) on testing set: 70.30173990151266\n"
     ]
    }
   ],
   "source": [
    "# Evaluate the model performance (calculate RMSE)\n",
    "rmse = mean_squared_error(y_test, y_pred, squared=False)  # To get RMSE\n",
    "print(\"Root Mean Squared Error (RMSE) on testing set:\", rmse)"
   ]
  },
  {
   "cell_type": "code",
   "execution_count": 78,
   "id": "1625bae3-2497-4740-9630-22f1db884eed",
   "metadata": {},
   "outputs": [
    {
     "name": "stdout",
     "output_type": "stream",
     "text": [
      "Root Mean Squared Error (RMSE) on training set: 101.49815211647342\n"
     ]
    }
   ],
   "source": [
    "# VS training data\n",
    "y_pred2 = rf.predict(X_train)\n",
    "\n",
    "rmse2 = mean_squared_error(y_train, y_pred2, squared=False)  # To get RMSE\n",
    "print(\"Root Mean Squared Error (RMSE) on training set:\", rmse2)"
   ]
  },
  {
   "cell_type": "code",
   "execution_count": 79,
   "id": "4cda3ce5-e88b-4680-8d7c-5878a0a8d914",
   "metadata": {},
   "outputs": [
    {
     "name": "stdout",
     "output_type": "stream",
     "text": [
      "Average RMSE across folds: 111.1473310960271\n"
     ]
    }
   ],
   "source": [
    "# Perform k-fold cross-validation\n",
    "cv_rmse = cross_val_score(rf, X_train, y_train, cv=5, scoring='neg_mean_squared_error')\n",
    "\n",
    "# Calculate average RMSE across folds (use negative MSE as returned by cv_rmse) \n",
    "mean_cv_rmse = np.mean(np.sqrt(-cv_rmse))  # Convert to RMSE\n",
    "print(\"Average RMSE across folds:\", mean_cv_rmse)"
   ]
  },
  {
   "cell_type": "code",
   "execution_count": 97,
   "id": "f3b654bc-3d76-4ea3-8a3c-cf95566b40d0",
   "metadata": {},
   "outputs": [
    {
     "data": {
      "text/plain": [
       "['eWeek',\n",
       " 'Search Interest_W-2',\n",
       " 'Mean Wind Speed (km/h)_W-6',\n",
       " 'Mean Temperature (°C)_W-3',\n",
       " 'Lag_2',\n",
       " 'Weekly Rainfall Total (mm)_W-6']"
      ]
     },
     "execution_count": 97,
     "metadata": {},
     "output_type": "execute_result"
    }
   ],
   "source": [
    "X.columns.tolist()"
   ]
  },
  {
   "cell_type": "code",
   "execution_count": 80,
   "id": "b27a4cad-df36-4ee1-929e-8f043cdddbf9",
   "metadata": {},
   "outputs": [
    {
     "data": {
      "text/html": [
       "<style>#sk-container-id-3 {color: black;background-color: white;}#sk-container-id-3 pre{padding: 0;}#sk-container-id-3 div.sk-toggleable {background-color: white;}#sk-container-id-3 label.sk-toggleable__label {cursor: pointer;display: block;width: 100%;margin-bottom: 0;padding: 0.3em;box-sizing: border-box;text-align: center;}#sk-container-id-3 label.sk-toggleable__label-arrow:before {content: \"▸\";float: left;margin-right: 0.25em;color: #696969;}#sk-container-id-3 label.sk-toggleable__label-arrow:hover:before {color: black;}#sk-container-id-3 div.sk-estimator:hover label.sk-toggleable__label-arrow:before {color: black;}#sk-container-id-3 div.sk-toggleable__content {max-height: 0;max-width: 0;overflow: hidden;text-align: left;background-color: #f0f8ff;}#sk-container-id-3 div.sk-toggleable__content pre {margin: 0.2em;color: black;border-radius: 0.25em;background-color: #f0f8ff;}#sk-container-id-3 input.sk-toggleable__control:checked~div.sk-toggleable__content {max-height: 200px;max-width: 100%;overflow: auto;}#sk-container-id-3 input.sk-toggleable__control:checked~label.sk-toggleable__label-arrow:before {content: \"▾\";}#sk-container-id-3 div.sk-estimator input.sk-toggleable__control:checked~label.sk-toggleable__label {background-color: #d4ebff;}#sk-container-id-3 div.sk-label input.sk-toggleable__control:checked~label.sk-toggleable__label {background-color: #d4ebff;}#sk-container-id-3 input.sk-hidden--visually {border: 0;clip: rect(1px 1px 1px 1px);clip: rect(1px, 1px, 1px, 1px);height: 1px;margin: -1px;overflow: hidden;padding: 0;position: absolute;width: 1px;}#sk-container-id-3 div.sk-estimator {font-family: monospace;background-color: #f0f8ff;border: 1px dotted black;border-radius: 0.25em;box-sizing: border-box;margin-bottom: 0.5em;}#sk-container-id-3 div.sk-estimator:hover {background-color: #d4ebff;}#sk-container-id-3 div.sk-parallel-item::after {content: \"\";width: 100%;border-bottom: 1px solid gray;flex-grow: 1;}#sk-container-id-3 div.sk-label:hover label.sk-toggleable__label {background-color: #d4ebff;}#sk-container-id-3 div.sk-serial::before {content: \"\";position: absolute;border-left: 1px solid gray;box-sizing: border-box;top: 0;bottom: 0;left: 50%;z-index: 0;}#sk-container-id-3 div.sk-serial {display: flex;flex-direction: column;align-items: center;background-color: white;padding-right: 0.2em;padding-left: 0.2em;position: relative;}#sk-container-id-3 div.sk-item {position: relative;z-index: 1;}#sk-container-id-3 div.sk-parallel {display: flex;align-items: stretch;justify-content: center;background-color: white;position: relative;}#sk-container-id-3 div.sk-item::before, #sk-container-id-3 div.sk-parallel-item::before {content: \"\";position: absolute;border-left: 1px solid gray;box-sizing: border-box;top: 0;bottom: 0;left: 50%;z-index: -1;}#sk-container-id-3 div.sk-parallel-item {display: flex;flex-direction: column;z-index: 1;position: relative;background-color: white;}#sk-container-id-3 div.sk-parallel-item:first-child::after {align-self: flex-end;width: 50%;}#sk-container-id-3 div.sk-parallel-item:last-child::after {align-self: flex-start;width: 50%;}#sk-container-id-3 div.sk-parallel-item:only-child::after {width: 0;}#sk-container-id-3 div.sk-dashed-wrapped {border: 1px dashed gray;margin: 0 0.4em 0.5em 0.4em;box-sizing: border-box;padding-bottom: 0.4em;background-color: white;}#sk-container-id-3 div.sk-label label {font-family: monospace;font-weight: bold;display: inline-block;line-height: 1.2em;}#sk-container-id-3 div.sk-label-container {text-align: center;}#sk-container-id-3 div.sk-container {/* jupyter's `normalize.less` sets `[hidden] { display: none; }` but bootstrap.min.css set `[hidden] { display: none !important; }` so we also need the `!important` here to be able to override the default hidden behavior on the sphinx rendered scikit-learn.org. See: https://github.com/scikit-learn/scikit-learn/issues/21755 */display: inline-block !important;position: relative;}#sk-container-id-3 div.sk-text-repr-fallback {display: none;}</style><div id=\"sk-container-id-3\" class=\"sk-top-container\"><div class=\"sk-text-repr-fallback\"><pre>RFECV(cv=5,\n",
       "      estimator=RandomForestRegressor(max_depth=3, max_leaf_nodes=2,\n",
       "                                      max_samples=10, n_estimators=500),\n",
       "      scoring=&#x27;neg_mean_squared_error&#x27;, step=0.05)</pre><b>In a Jupyter environment, please rerun this cell to show the HTML representation or trust the notebook. <br />On GitHub, the HTML representation is unable to render, please try loading this page with nbviewer.org.</b></div><div class=\"sk-container\" hidden><div class=\"sk-item sk-dashed-wrapped\"><div class=\"sk-label-container\"><div class=\"sk-label sk-toggleable\"><input class=\"sk-toggleable__control sk-hidden--visually\" id=\"sk-estimator-id-7\" type=\"checkbox\" ><label for=\"sk-estimator-id-7\" class=\"sk-toggleable__label sk-toggleable__label-arrow\">RFECV</label><div class=\"sk-toggleable__content\"><pre>RFECV(cv=5,\n",
       "      estimator=RandomForestRegressor(max_depth=3, max_leaf_nodes=2,\n",
       "                                      max_samples=10, n_estimators=500),\n",
       "      scoring=&#x27;neg_mean_squared_error&#x27;, step=0.05)</pre></div></div></div><div class=\"sk-parallel\"><div class=\"sk-parallel-item\"><div class=\"sk-item\"><div class=\"sk-label-container\"><div class=\"sk-label sk-toggleable\"><input class=\"sk-toggleable__control sk-hidden--visually\" id=\"sk-estimator-id-8\" type=\"checkbox\" ><label for=\"sk-estimator-id-8\" class=\"sk-toggleable__label sk-toggleable__label-arrow\">estimator: RandomForestRegressor</label><div class=\"sk-toggleable__content\"><pre>RandomForestRegressor(max_depth=3, max_leaf_nodes=2, max_samples=10,\n",
       "                      n_estimators=500)</pre></div></div></div><div class=\"sk-serial\"><div class=\"sk-item\"><div class=\"sk-estimator sk-toggleable\"><input class=\"sk-toggleable__control sk-hidden--visually\" id=\"sk-estimator-id-9\" type=\"checkbox\" ><label for=\"sk-estimator-id-9\" class=\"sk-toggleable__label sk-toggleable__label-arrow\">RandomForestRegressor</label><div class=\"sk-toggleable__content\"><pre>RandomForestRegressor(max_depth=3, max_leaf_nodes=2, max_samples=10,\n",
       "                      n_estimators=500)</pre></div></div></div></div></div></div></div></div></div></div>"
      ],
      "text/plain": [
       "RFECV(cv=5,\n",
       "      estimator=RandomForestRegressor(max_depth=3, max_leaf_nodes=2,\n",
       "                                      max_samples=10, n_estimators=500),\n",
       "      scoring='neg_mean_squared_error', step=0.05)"
      ]
     },
     "execution_count": 80,
     "metadata": {},
     "output_type": "execute_result"
    }
   ],
   "source": [
    "# Initialize RFECV\n",
    "rfecv = RFECV(estimator=rf, step=0.05, cv=5, scoring='neg_mean_squared_error')\n",
    "\n",
    "# Fit RFECV\n",
    "rfecv.fit(X_train, y_train)"
   ]
  },
  {
   "cell_type": "code",
   "execution_count": 81,
   "id": "4f842bc2-bba0-4dc6-b402-5e3062c0ea6e",
   "metadata": {},
   "outputs": [
    {
     "name": "stdout",
     "output_type": "stream",
     "text": [
      "Average RMSE across folds: {107.85847078228679}\n"
     ]
    },
    {
     "name": "stderr",
     "output_type": "stream",
     "text": [
      "C:\\Users\\idea\\Anaconda3\\envs\\dsi-sg\\lib\\site-packages\\sklearn\\utils\\deprecation.py:103: FutureWarning: The `grid_scores_` attribute is deprecated in version 1.0 in favor of `cv_results_` and will be removed in version 1.2.\n",
      "  warnings.warn(msg, category=FutureWarning)\n"
     ]
    }
   ],
   "source": [
    "# Calculate the RMSE for each cross-validation fold\n",
    "rmse_scores = np.sqrt(-rfecv.grid_scores_)\n",
    "print(\"Average RMSE across folds:\", {np.mean(rmse_scores)})"
   ]
  },
  {
   "cell_type": "code",
   "execution_count": 82,
   "id": "8064f99d-091c-4349-a78c-10a71eb0b29e",
   "metadata": {
    "scrolled": true
   },
   "outputs": [
    {
     "name": "stdout",
     "output_type": "stream",
     "text": [
      "Optimal number of features: 1\n"
     ]
    }
   ],
   "source": [
    "# Get the number of best features\n",
    "print('Optimal number of features:', rfecv.n_features_)"
   ]
  },
  {
   "cell_type": "code",
   "execution_count": 83,
   "id": "9a391cd9-c769-48a5-9746-888e6ae655fd",
   "metadata": {},
   "outputs": [
    {
     "name": "stdout",
     "output_type": "stream",
     "text": [
      "Index(['Lag_2'], dtype='object')\n"
     ]
    }
   ],
   "source": [
    "# best features \n",
    "selected_features = X.columns[rfecv.support_]\n",
    "print(selected_features)"
   ]
  },
  {
   "cell_type": "code",
   "execution_count": 84,
   "id": "df110bfa-ea22-44b8-a80b-55c44ac2128e",
   "metadata": {},
   "outputs": [
    {
     "name": "stdout",
     "output_type": "stream",
     "text": [
      "[4 2 3 5 1 6]\n"
     ]
    }
   ],
   "source": [
    "# feature ranking\n",
    "feature_ranking = rfecv.ranking_\n",
    "print(feature_ranking)"
   ]
  },
  {
   "cell_type": "code",
   "execution_count": 85,
   "id": "c510a069-61be-429e-8561-9e5d0be670c2",
   "metadata": {},
   "outputs": [
    {
     "data": {
      "text/plain": [
       "Index(['eWeek', 'Search Interest_W-2', 'Mean Wind Speed (km/h)_W-6',\n",
       "       'Mean Temperature (°C)_W-3', 'Lag_2', 'Weekly Rainfall Total (mm)_W-6'],\n",
       "      dtype='object')"
      ]
     },
     "execution_count": 85,
     "metadata": {},
     "output_type": "execute_result"
    }
   ],
   "source": [
    "X.columns"
   ]
  },
  {
   "cell_type": "code",
   "execution_count": 86,
   "id": "213e7c50-df2b-4b14-a24e-3ba8c9adcb43",
   "metadata": {},
   "outputs": [],
   "source": [
    "x_axis = y_test.index"
   ]
  },
  {
   "cell_type": "code",
   "execution_count": 87,
   "id": "fd86b11a-8b9a-48a7-b47c-43730248c3c2",
   "metadata": {},
   "outputs": [
    {
     "data": {
      "image/png": "[encoded data removed]",
      "text/plain": [
       "<Figure size 1000x300 with 1 Axes>"
      ]
     },
     "metadata": {},
     "output_type": "display_data"
    }
   ],
   "source": [
    "plt.figure(figsize=(10, 3))\n",
    "plt.plot(x_axis, y_test, label='Actual', color='blue')\n",
    "plt.plot(x_axis, y_pred, label='Predicted', color='orange')\n",
    "plt.xlabel('Time Index')\n",
    "plt.ylabel('Number of Dengue Cases')\n",
    "plt.title('Time Series Prediction of Dengue Cases')\n",
    "plt.legend()\n",
    "plt.show()"
   ]
  },
  {
   "cell_type": "code",
   "execution_count": null,
   "id": "a70af2d2-c56e-43a0-9169-e551360478d5",
   "metadata": {},
   "outputs": [],
   "source": []
  }
 ],
 "metadata": {
  "kernelspec": {
   "display_name": "Python 3 (ipykernel)",
   "language": "python",
   "name": "python3"
  },
  "language_info": {
   "codemirror_mode": {
    "name": "ipython",
    "version": 3
   },
   "file_extension": ".py",
   "mimetype": "text/x-python",
   "name": "python",
   "nbconvert_exporter": "python",
   "pygments_lexer": "ipython3",
   "version": "3.10.6"
  }
 },
 "nbformat": 4,
 "nbformat_minor": 5
}
